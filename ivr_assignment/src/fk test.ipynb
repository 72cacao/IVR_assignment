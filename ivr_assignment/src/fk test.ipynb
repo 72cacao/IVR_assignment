{
 "cells": [
  {
   "cell_type": "code",
   "execution_count": 1,
   "metadata": {},
   "outputs": [],
   "source": [
    "import numpy as np"
   ]
  },
  {
   "cell_type": "code",
   "execution_count": 2,
   "metadata": {},
   "outputs": [],
   "source": [
    "def ForwardKinematics(joints):\n",
    "    # simplified with WolframAlpha\n",
    "    x = 3*np.sin(joints[0])*np.sin(joints[1])*np.cos(joints[2])*np.cos(joints[3]) + 3.5*np.sin(joints[0])*np.sin(joints[1])*np.cos(joints[2]) + 3*np.sin(joints[0])*np.cos(joints[1])*np.sin(joints[3])+ 3*np.cos(joints[0])*np.sin(joints[2])*np.cos(joints[3]) + 3.5*np.cos(joints[0])*np.sin(joints[2])\n",
    "    y = -3*np.cos(joints[0])*np.sin(joints[1])*np.cos(joints[2])*np.cos(joints[3]) - 3.5*np.cos(joints[0])*np.sin(joints[1])*np.cos(joints[2]) - 3*np.cos(joints[0])*np.cos(joints[1])*np.sin(joints[3]) + 3*np.sin(joints[0])*np.sin(joints[2])*np.cos(joints[3]) + 3.5*np.sin(joints[0])*np.sin(joints[2])\n",
    "    z = 3*np.cos(joints[1])*np.cos(joints[2])*np.cos(joints[3]) + 3.5*np.cos(joints[1])*np.cos(joints[2]) - 3*np.sin(joints[1])*np.sin(joints[3]) + 2.5\n",
    "    EndEffector = np.array([x,y,z])\n",
    "    return EndEffector\n"
   ]
  },
  {
   "cell_type": "code",
   "execution_count": 3,
   "metadata": {},
   "outputs": [
    {
     "data": {
      "text/plain": [
       "array([[ 4.905, -2.055,  5.875],\n",
       "       [ 5.023, -2.163,  5.769],\n",
       "       [ 4.204, -2.394,  6.534],\n",
       "       [ 4.103, -1.775,  7.174],\n",
       "       [ 3.412, -1.705,  7.119],\n",
       "       [ 3.769, -0.766,  7.489],\n",
       "       [ 4.422, -1.962,  6.534],\n",
       "       [ 5.435,  1.631,  1.871],\n",
       "       [-0.779,  5.621,  1.871],\n",
       "       [ 0.779,  5.621,  1.871]])"
      ]
     },
     "execution_count": 3,
     "metadata": {},
     "output_type": "execute_result"
    }
   ],
   "source": [
    "testdata = [[0.2, 0.4, 0.8, 0.5],\n",
    "[0.2, 0.5, 0.8, 0.4],\n",
    "[0.4, 0.5, 0.5, 0.5],\n",
    "[0.4, 0.5, 0.5, 0.2],\n",
    "[0.5, 0.2, 0.4, 0.8],\n",
    "[0.5, 0.2, 0.5, 0.5],\n",
    "[0.5, 0.5, 0.5, 0.5],\n",
    "[1, 1, 1, 1],\n",
    "[1, -1, 1, -1],\n",
    "[-1, -1, -1, -1]]\n",
    "fkresult = []\n",
    "for i in range(10):\n",
    "    fkresult.append(np.round(ForwardKinematics(testdata[i]),3))\n",
    "fkresult = np.array(fkresult)\n",
    "fkresult"
   ]
  },
  {
   "cell_type": "code",
   "execution_count": 4,
   "metadata": {},
   "outputs": [
    {
     "data": {
      "text/plain": [
       "array([[ 5.985, -3.131,  5.965],\n",
       "       [ 6.178, -3.287,  5.822],\n",
       "       [ 5.352, -3.461,  6.921],\n",
       "       [ 4.99 , -2.535,  7.746],\n",
       "       [ 4.061, -2.304,  7.36 ],\n",
       "       [ 4.217, -1.093,  7.828],\n",
       "       [ 5.477, -2.94 ,  6.927],\n",
       "       [ 5.75 ,  2.579,  0.824],\n",
       "       [-0.845,  5.875,  2.012],\n",
       "       [ 0.93 ,  6.722,  1.945]])"
      ]
     },
     "execution_count": 4,
     "metadata": {},
     "output_type": "execute_result"
    }
   ],
   "source": [
    "imageresult = np.array([[5.985, -3.131, 5.965],\n",
    "[6.178, -3.287, 5.822],\n",
    "[5.352, -3.461, 6.921],\n",
    "[4.990, -2.535, 7.746],\n",
    "[4.061, -2.304, 7.360],\n",
    "[4.217, -1.093, 7.828],\n",
    "[5.477, -2.940, 6.927],\n",
    "[5.750, 2.579, 0.824],\n",
    "[-0.845, 5.875, 2.012],\n",
    "[0.930, 6.722, 1.945]])\n",
    "imageresult"
   ]
  },
  {
   "cell_type": "code",
   "execution_count": 5,
   "metadata": {},
   "outputs": [
    {
     "name": "stdout",
     "output_type": "stream",
     "text": [
      "[1.527 1.613 1.614 1.301 0.915 0.65  1.491 1.447 0.298 1.114]\n",
      "1.197\n"
     ]
    }
   ],
   "source": [
    "# comparing estimated positions\n",
    "dist = []\n",
    "for i in range(10):\n",
    "    dist.append(np.linalg.norm(imageresult[i]-fkresult[i]))\n",
    "print(np.round(dist,3))\n",
    "mean = np.mean(dist)\n",
    "print(np.round(mean,3))"
   ]
  },
  {
   "cell_type": "code",
   "execution_count": 6,
   "metadata": {},
   "outputs": [
    {
     "name": "stdout",
     "output_type": "stream",
     "text": [
      "[[ 1.08 ]\n",
      " [ 1.155]\n",
      " [ 1.148]\n",
      " [ 0.887]\n",
      " [ 0.649]\n",
      " [ 0.448]\n",
      " [ 1.055]\n",
      " [ 0.315]\n",
      " [-0.066]\n",
      " [ 0.151]]\n",
      "im pos mean  4.21\n",
      "fk pos mean  3.527\n",
      "mean diff  0.682\n",
      "%  -16.206200261313693\n",
      "\n"
     ]
    }
   ],
   "source": [
    "# comparing estimated positions\n",
    "diff = np.zeros(shape=(10,1))\n",
    "k = 0 # 0, 1, 2 for x, y, z\n",
    "for i in range(10):\n",
    "#     print((fkresult[i][2]-imageresult[i][2]))\n",
    "    diff[i] = np.round(((imageresult[i][k]-fkresult[i][k])), 3)\n",
    "print(diff)\n",
    "mean = np.mean(diff)\n",
    "mean1 = np.mean(imageresult[:,k], axis = 0)\n",
    "mean2 = np.mean(fkresult[:,k], axis = 0)\n",
    "print(\"im pos mean \",np.round(mean1,3))\n",
    "print(\"fk pos mean \",np.round(mean2,3))\n",
    "print(\"mean diff \",np.round(mean,3))\n",
    "print(\"% \", mean/(-mean1)*100)\n",
    "print()"
   ]
  },
  {
   "cell_type": "code",
   "execution_count": 7,
   "metadata": {},
   "outputs": [],
   "source": [
    "def JacobianMatrix(joints):\n",
    "    # calculated with WolframAlpha\n",
    "    x0 = np.cos(joints[0])*(np.sin(joints[1])*np.cos(joints[2])*(3*np.cos(joints[3]) + 3.5) + 3*np.cos(joints[1])*np.sin(joints[3])) + np.sin(joints[0])*np.sin(joints[2])*(-3*np.cos(joints[3]) - 3.5)\n",
    "    x1 = np.sin(joints[0])*(np.cos(joints[1])*np.cos(joints[2])*(3*np.cos(joints[3]) + 3.5) - 3*np.sin(joints[1])*np.sin(joints[3]))\n",
    "    x2 = 0.5*(6*np.cos(joints[3]) + 7)*(np.cos(joints[0])*np.cos(joints[2]) - np.sin(joints[0])*np.sin(joints[1])*np.sin(joints[2]))\n",
    "    x3 = np.sin(joints[0])*(3*np.cos(joints[1])*np.cos(joints[3]) - 3*np.sin(joints[1])*np.cos(joints[2])*np.sin(joints[3])) - 3*np.cos(joints[0])*np.sin(joints[2])*np.sin(joints[3])\n",
    "    y0 = np.sin(joints[0])*(np.sin(joints[1])*np.cos(joints[2])*(3*np.cos(joints[3]) + 3.5) + 3*np.cos(joints[1])*np.sin(joints[3])) + np.cos(joints[0])*np.sin(joints[2])*(3*np.cos(joints[3]) + 3.5)\n",
    "    y1 = np.cos(joints[0])*(np.cos(joints[1])*np.cos(joints[2])*(-3*np.cos(joints[3]) - 3.5) + 3*np.sin(joints[1])*np.sin(joints[3]))\n",
    "    y2 = 0.5*(6*np.cos(joints[3]) + 7)*(np.cos(joints[0])*np.sin(joints[1])*np.sin(joints[2]) + np.sin(joints[0])*np.cos(joints[2]))\n",
    "    y3 = -3*(-np.cos(joints[0])*np.sin(joints[1])*np.cos(joints[2])*np.sin(joints[3]) + np.cos(joints[0])*np.cos(joints[1])*np.cos(joints[3]) + np.sin(joints[0])*np.sin(joints[2])*np.sin(joints[3]))\n",
    "    z0 = 0.0\n",
    "    z1 = np.sin(joints[1])*np.cos(joints[2])*(-3*np.cos(joints[3]) - 3.5) - 3*np.cos(joints[1])*np.sin(joints[3])\n",
    "    z2 = np.cos(joints[1])*np.sin(joints[2])*(-3*np.cos(joints[3]) - 3.5)\n",
    "    z3 = -3*(np.cos(joints[1])*np.cos(joints[2])*np.sin(joints[3]) + np.sin(joints[1])*np.cos(joints[3]))\n",
    "\n",
    "    jacobian = np.array([[x0,x1,x2,x3],[y0,y1,y2,y3],[z0,z1,z2,z3]])\n",
    "\n",
    "    return jacobian"
   ]
  },
  {
   "cell_type": "code",
   "execution_count": 8,
   "metadata": {},
   "outputs": [],
   "source": [
    "# JacobianMatrix([1,2,3,4])"
   ]
  },
  {
   "cell_type": "code",
   "execution_count": null,
   "metadata": {},
   "outputs": [],
   "source": []
  },
  {
   "cell_type": "code",
   "execution_count": null,
   "metadata": {},
   "outputs": [],
   "source": []
  }
 ],
 "metadata": {
  "kernelspec": {
   "display_name": "Python 3",
   "language": "python",
   "name": "python3"
  },
  "language_info": {
   "codemirror_mode": {
    "name": "ipython",
    "version": 3
   },
   "file_extension": ".py",
   "mimetype": "text/x-python",
   "name": "python",
   "nbconvert_exporter": "python",
   "pygments_lexer": "ipython3",
   "version": "3.6.9"
  }
 },
 "nbformat": 4,
 "nbformat_minor": 4
}
